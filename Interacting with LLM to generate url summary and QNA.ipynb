{
  "nbformat": 4,
  "nbformat_minor": 0,
  "metadata": {
    "colab": {
      "provenance": [],
      "authorship_tag": "ABX9TyOtRt55wX0pMxMrEGJxa38t",
      "include_colab_link": true
    },
    "kernelspec": {
      "name": "python3",
      "display_name": "Python 3"
    },
    "language_info": {
      "name": "python"
    }
  },
  "cells": [
    {
      "cell_type": "markdown",
      "metadata": {
        "id": "view-in-github",
        "colab_type": "text"
      },
      "source": [
        "<a href=\"https://colab.research.google.com/github/javeed1209/Genai/blob/main/Interacting%20with%20LLM%20to%20generate%20url%20summary%20and%20QNA.ipynb\" target=\"_parent\"><img src=\"https://colab.research.google.com/assets/colab-badge.svg\" alt=\"Open In Colab\"/></a>"
      ]
    },
    {
      "cell_type": "code",
      "source": [
        "#imports\n",
        "!pip install openai requests\n",
        "!pip install requests\n",
        "\n"
      ],
      "metadata": {
        "colab": {
          "base_uri": "https://localhost:8080/"
        },
        "id": "604EIWFcpCMR",
        "outputId": "7e30333a-4a6b-403d-fec6-95ba5077d3da"
      },
      "execution_count": null,
      "outputs": [
        {
          "output_type": "stream",
          "name": "stdout",
          "text": [
            "Requirement already satisfied: openai in /usr/local/lib/python3.11/dist-packages (1.99.1)\n",
            "Requirement already satisfied: requests in /usr/local/lib/python3.11/dist-packages (2.32.3)\n",
            "Requirement already satisfied: anyio<5,>=3.5.0 in /usr/local/lib/python3.11/dist-packages (from openai) (4.10.0)\n",
            "Requirement already satisfied: distro<2,>=1.7.0 in /usr/local/lib/python3.11/dist-packages (from openai) (1.9.0)\n",
            "Requirement already satisfied: httpx<1,>=0.23.0 in /usr/local/lib/python3.11/dist-packages (from openai) (0.28.1)\n",
            "Requirement already satisfied: jiter<1,>=0.4.0 in /usr/local/lib/python3.11/dist-packages (from openai) (0.10.0)\n",
            "Requirement already satisfied: pydantic<3,>=1.9.0 in /usr/local/lib/python3.11/dist-packages (from openai) (2.11.7)\n",
            "Requirement already satisfied: sniffio in /usr/local/lib/python3.11/dist-packages (from openai) (1.3.1)\n",
            "Requirement already satisfied: tqdm>4 in /usr/local/lib/python3.11/dist-packages (from openai) (4.67.1)\n",
            "Requirement already satisfied: typing-extensions<5,>=4.11 in /usr/local/lib/python3.11/dist-packages (from openai) (4.14.1)\n",
            "Requirement already satisfied: charset-normalizer<4,>=2 in /usr/local/lib/python3.11/dist-packages (from requests) (3.4.2)\n",
            "Requirement already satisfied: idna<4,>=2.5 in /usr/local/lib/python3.11/dist-packages (from requests) (3.10)\n",
            "Requirement already satisfied: urllib3<3,>=1.21.1 in /usr/local/lib/python3.11/dist-packages (from requests) (2.5.0)\n",
            "Requirement already satisfied: certifi>=2017.4.17 in /usr/local/lib/python3.11/dist-packages (from requests) (2025.8.3)\n",
            "Requirement already satisfied: httpcore==1.* in /usr/local/lib/python3.11/dist-packages (from httpx<1,>=0.23.0->openai) (1.0.9)\n",
            "Requirement already satisfied: h11>=0.16 in /usr/local/lib/python3.11/dist-packages (from httpcore==1.*->httpx<1,>=0.23.0->openai) (0.16.0)\n",
            "Requirement already satisfied: annotated-types>=0.6.0 in /usr/local/lib/python3.11/dist-packages (from pydantic<3,>=1.9.0->openai) (0.7.0)\n",
            "Requirement already satisfied: pydantic-core==2.33.2 in /usr/local/lib/python3.11/dist-packages (from pydantic<3,>=1.9.0->openai) (2.33.2)\n",
            "Requirement already satisfied: typing-inspection>=0.4.0 in /usr/local/lib/python3.11/dist-packages (from pydantic<3,>=1.9.0->openai) (0.4.1)\n",
            "Requirement already satisfied: requests in /usr/local/lib/python3.11/dist-packages (2.32.3)\n",
            "Requirement already satisfied: charset-normalizer<4,>=2 in /usr/local/lib/python3.11/dist-packages (from requests) (3.4.2)\n",
            "Requirement already satisfied: idna<4,>=2.5 in /usr/local/lib/python3.11/dist-packages (from requests) (3.10)\n",
            "Requirement already satisfied: urllib3<3,>=1.21.1 in /usr/local/lib/python3.11/dist-packages (from requests) (2.5.0)\n",
            "Requirement already satisfied: certifi>=2017.4.17 in /usr/local/lib/python3.11/dist-packages (from requests) (2025.8.3)\n"
          ]
        }
      ]
    },
    {
      "cell_type": "code",
      "execution_count": null,
      "metadata": {
        "id": "CnWety2NnTfP"
      },
      "outputs": [],
      "source": [
        "#web summarizer\n",
        "import requests\n",
        "from openai import OpenAI\n",
        "from bs4 import BeautifulSoup\n",
        "api_key = \"ddc-a4f-49e9ee762ff445bcb1146ffb238d75b3\"\n",
        "api_base_url = \"https://api.a4f.co/v1\"\n",
        "client = OpenAI(api_key=api_key, base_url = api_base_url)\n",
        "def fetch_webpage_content(url):\n",
        "  try:\n",
        "    response = requests.get(url, timeout = 10)\n",
        "    response.raise_for_status() #checks if url valid or not\n",
        "    soup = BeautifulSoup(response.text, 'html.parser')\n",
        "    return soup.get_text()[:300]\n",
        "  except requests.exceptions.RequestException as e:\n",
        "        return f\"Error fetching webpage: {e}\"\n",
        "\n",
        "def summarize_with_llm(content):\n",
        "  content = fetch_webpage_content(url)\n",
        "  completion = client.chat.completions.create(\n",
        "        model=\"provider-2/gpt-4o-mini\",\n",
        "        messages=[\n",
        "            {\"role\": \"system\", \"content\": \"Generate a short summary highlighting the key points of the webpage content in 300 words.\"},\n",
        "            {\"role\": \"user\", \"content\": content}\n",
        "        ] , timeout = 15)\n",
        "\n",
        "  return completion.choices[0].message.content\n",
        "\n",
        "\n",
        "\n"
      ]
    },
    {
      "cell_type": "code",
      "source": [
        "url = \"https://www.accenture.com/in-en\"\n",
        "print(summarize_with_llm(fetch_webpage_content(url)))\n"
      ],
      "metadata": {
        "colab": {
          "base_uri": "https://localhost:8080/"
        },
        "id": "eyeXUNfUr7NO",
        "outputId": "bb7d917e-a0b9-441e-a1ba-c76ba5dac135"
      },
      "execution_count": null,
      "outputs": [
        {
          "output_type": "stream",
          "name": "stdout",
          "text": [
            "The webpage \"Let There Be Change\" by Accenture India showcases the company's commitment to driving transformation and innovation across various sectors in India. It emphasizes Accenture's role in supporting organizations as they navigate the complexities of digital transformation, sustainability initiatives, and workforce diversity. The content highlights numerous case studies and success stories where Accenture has enabled businesses to adapt to rapidly changing market dynamics, leveraging advanced technologies and strategic insights.\n",
            "\n",
            "A key focus is placed on sustainability, with a clear message about the importance of green practices in business operations. Accenture advocates for a more sustainable future, encouraging organizations to invest in eco-friendly technologies and practices that will benefit both society and the planet. \n",
            "\n",
            "Furthermore, the webpage features insights on the company’s initiatives to foster inclusivity and diversity in workplaces, underscoring how a diverse workforce can drive innovation and improve business performance. Accenture’s belief in cultivating talent across various demographics is highlighted as essential to creating a future-ready workforce.\n",
            "\n",
            "The webpage also discusses Accenture’s collaboration with clients to co-create solutions that address specific challenges faced by industries in India. The company stresses the importance of tailored strategies that align with local market conditions while also integrating global perspectives.\n",
            "\n",
            "Overall, the \"Let There Be Change\" page reflects Accenture India's mission to empower businesses and communities through digital transformation, sustainable practices, and inclusive strategies, positioning itself as a leader in driving positive change in the corporate landscape. The focus on innovation, sustainability, and workforce diversity is central to Accenture's approach as it strives to shape a better future for India.\n"
          ]
        }
      ]
    },
    {
      "cell_type": "code",
      "source": [
        "from openai import OpenAI\n",
        "af4_api = \"ddc-a4f-49e9ee762ff445bcb1146ffb238d75b3\"\n",
        "a4f_base_url = \"https://api.a4f.co/v1\"\n",
        "client = OpenAI(api_key = af4_api, base_url= a4f_base_url)\n",
        "completion = client.chat.completions.create(\n",
        "    model = \"provider-2/gpt-4o-mini\", messages=[\n",
        "        {\"role\": \"user\", \"content\":\"Hello this is javed i want to prepare for intrview on azure\"}\n",
        "    ])\n",
        "print(completion.choices[0].message.content)"
      ],
      "metadata": {
        "colab": {
          "base_uri": "https://localhost:8080/"
        },
        "id": "urQLLuvue0_o",
        "outputId": "d4d22ffd-cf50-4cff-b58a-1b6f0e780d1c"
      },
      "execution_count": 8,
      "outputs": [
        {
          "output_type": "stream",
          "name": "stdout",
          "text": [
            "Hello Javed! Preparing for an Azure interview is a great idea, as cloud computing skills are in high demand. Here are some steps and resources that can help you get ready:\n",
            "\n",
            "### 1. Understand the Basics\n",
            "- **Azure Fundamentals**: Familiarize yourself with the core Azure services, solutions, and management tools. Microsoft's Azure Fundamentals (AZ-900) certification could be a good starting point.\n",
            "- **Core Services**: Know about common Azure services like Virtual Machines, App Services, Azure Functions, Azure Storage, Azure SQL Database, etc.\n",
            "\n",
            "### 2. Get Hands-On Experience\n",
            "- **Azure Portal**: Create an Azure account (you can get free credits) and explore the Azure Portal.\n",
            "- **Practice Labs**: Use platforms like Microsoft Learn, A Cloud Guru, or Qwiklabs for hands-on labs and practical exercises.\n",
            "\n",
            "### 3. Key Topics to Study\n",
            "- **Compute**: VMs, Azure App Services, Azure Kubernetes Service (AKS).\n",
            "- **Networking**: Azure Virtual Network, Load Balancer, VPN Gateway, Azure Firewall.\n",
            "- **Storage**: Azure Blob Storage, Azure SQL Database, Azure Cosmos DB.\n",
            "- **Identity & Security**: Azure Active Directory, Role-Based Access Control (RBAC), Azure Security Center.\n",
            "- **Monitoring & Management**: Azure Monitor, Azure Log Analytics, Azure Resource Manager (ARM).\n",
            "\n",
            "### 4. Common Interview Questions\n",
            "Be prepared to answer questions such as:\n",
            "- What is Azure and how does it compare to other cloud providers?\n",
            "- Can you explain the differences between Azure Blob Storage, Queue Storage, and Table Storage?\n",
            "- How do you secure Azure resources?\n",
            "- What is the process for deploying an application to Azure App Service?\n",
            "- How do you scale an Azure application and monitor its performance?\n",
            "\n",
            "### 5. Scenario-Based Questions\n",
            "Expect scenario-based questions where you may need to solve a problem. It’s a good practice to think out loud to show your thought process.\n",
            "\n",
            "### 6. Study Resources\n",
            "- **Microsoft Learn**: Free learning paths on various Azure topics.\n",
            "- **Books**: Consider books such as \"Azure for Architects\" or certification-specific guides.\n",
            "- **Online Courses**: Platforms like Udemy, Coursera, and LinkedIn Learning have courses specific to Azure.\n",
            "\n",
            "### 7. Mock Interviews\n",
            "Conduct mock interviews with friends or use platforms like Pramp or LeetCode to practice.\n",
            "\n",
            "### 8. Keep Updated\n",
            "Azure services are frequently updated, so ensure you are aware of the latest features and best practices.\n",
            "\n",
            "### Additional Tips\n",
            "- Review Azure architecture best practices.\n",
            "- Be familiar with pricing models and resource management.\n",
            "- Understand the principles of DevOps in the context of Azure (e.g., using Azure DevOps).\n",
            "\n",
            "With dedicated preparation, you'll be well-equipped for your Azure interview. Good luck! If you have specific topics or questions you'd like to dive deeper into, feel free to ask!\n"
          ]
        }
      ]
    }
  ]
}